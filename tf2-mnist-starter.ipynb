{
 "cells": [
  {
   "cell_type": "code",
   "execution_count": 1,
   "id": "collective-things",
   "metadata": {},
   "outputs": [],
   "source": [
    "import os, tempfile, time, json, IPython, subprocess\n",
    "import cdsw"
   ]
  },
  {
   "cell_type": "code",
   "execution_count": 2,
   "id": "generous-money",
   "metadata": {},
   "outputs": [
    {
     "name": "stdout",
     "output_type": "stream",
     "text": [
      "Starting workers ...\n",
      "Workers: ['100.100.7.177', '100.100.7.178']\n",
      "Preparing to run: horovodrun -np 2 -H 100.100.7.177:1,100.100.7.178:1 -p 2222 python3 tf2-mnist-hvd.py 2>&1\n"
     ]
    },
    {
     "data": {
      "text/plain": [
       "256"
      ]
     },
     "execution_count": 2,
     "metadata": {},
     "output_type": "execute_result"
    }
   ],
   "source": [
    "workers = cdsw.launch_workers(n=2, cpu=1, memory=2,\n",
    "                              code=\"import time; time.sleep(365*3600*10)\")\n",
    "print('Starting workers ...')\n",
    "worker_ids = [worker[\"id\"] for worker in workers]\n",
    "running_workers = cdsw.await_workers(worker_ids,\n",
    "                              wait_for_completion=False,\n",
    "                              timeout_seconds=120)\n",
    "worker_ips = [worker[\"ip_address\"] for worker in \\\n",
    "                              running_workers[\"workers\"]]\n",
    "print('Workers:', worker_ips)\n",
    "hosts_str = \",\".join([worker_ip+\":1\" for worker_ip in worker_ips])\n",
    "cmd = \"horovodrun -np {} -H {} -p 2222 python3 tf2-mnist-hvd.py 2>&1\".format(\n",
    "                              len(worker_ips),\n",
    "                              hosts_str)\n",
    "print('Preparing to run: ' + cmd)\n",
    "os.system(cmd)"
   ]
  },
  {
   "cell_type": "code",
   "execution_count": null,
   "id": "identical-receiver",
   "metadata": {},
   "outputs": [],
   "source": []
  },
  {
   "cell_type": "code",
   "execution_count": 57,
   "id": "bronze-protein",
   "metadata": {},
   "outputs": [
    {
     "data": {
      "text/plain": [
       "20"
      ]
     },
     "execution_count": 57,
     "metadata": {},
     "output_type": "execute_result"
    }
   ],
   "source": [
    "len(cdsw.list_workers())"
   ]
  },
  {
   "cell_type": "code",
   "execution_count": 58,
   "id": "demanding-cocktail",
   "metadata": {},
   "outputs": [
    {
     "data": {
      "text/plain": [
       "[<Response [204]>,\n",
       " <Response [204]>,\n",
       " <Response [204]>,\n",
       " <Response [204]>,\n",
       " <Response [204]>,\n",
       " <Response [204]>,\n",
       " <Response [204]>,\n",
       " <Response [204]>,\n",
       " <Response [204]>,\n",
       " <Response [204]>,\n",
       " <Response [204]>,\n",
       " <Response [204]>,\n",
       " <Response [204]>,\n",
       " <Response [204]>,\n",
       " <Response [204]>,\n",
       " <Response [204]>,\n",
       " <Response [204]>,\n",
       " <Response [204]>,\n",
       " <Response [204]>,\n",
       " <Response [204]>]"
      ]
     },
     "execution_count": 58,
     "metadata": {},
     "output_type": "execute_result"
    }
   ],
   "source": [
    "cdsw.stop_workers()"
   ]
  },
  {
   "cell_type": "code",
   "execution_count": null,
   "id": "subtle-volunteer",
   "metadata": {},
   "outputs": [],
   "source": []
  }
 ],
 "metadata": {
  "kernelspec": {
   "display_name": "Python 3",
   "language": "python",
   "name": "python3"
  },
  "language_info": {
   "codemirror_mode": {
    "name": "ipython",
    "version": 3
   },
   "file_extension": ".py",
   "mimetype": "text/x-python",
   "name": "python",
   "nbconvert_exporter": "python",
   "pygments_lexer": "ipython3",
   "version": "3.8.6"
  }
 },
 "nbformat": 4,
 "nbformat_minor": 5
}
